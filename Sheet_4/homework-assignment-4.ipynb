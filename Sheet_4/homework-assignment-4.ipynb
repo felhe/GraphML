{
 "cells": [
  {
   "cell_type": "markdown",
   "id": "22db94a9-2dbf-4a38-b51f-0fe5540f0198",
   "metadata": {},
   "source": [
    "# 1) PyTorch Geometric (Datasets and Data)\n"
   ]
  },
  {
   "cell_type": "markdown",
   "id": "78850834-e022-45e1-a84d-552da2d54ccc",
   "metadata": {},
   "source": [
    "PyTorch Geometric has two classes for storing and/or transforming graphs into tensor format. One is `torch_geometric.datasets`, which contains a variety of common graph datasets. Another is `torch_geometric.data`, which provides the data handling of graphs in PyTorch tensors.\n",
    "\n",
    "In this section, we will learn how to use `torch_geometric.datasets` and `torch_geometric.data` together."
   ]
  },
  {
   "cell_type": "markdown",
   "id": "5c706a63-5404-4fe8-a4f3-3869ecfd79e1",
   "metadata": {},
   "source": [
    "## PyG Datasets\n",
    "\n",
    "The `torch_geometric.datasets` class has many common graph datasets. Here we will explore its usage through one example dataset."
   ]
  },
  {
   "cell_type": "code",
   "id": "a540a4de-bc7f-4ed5-a4e3-78d2a64a42f0",
   "metadata": {
    "ExecuteTime": {
     "end_time": "2024-06-16T19:07:12.130836Z",
     "start_time": "2024-06-16T19:07:07.943212Z"
    }
   },
   "source": [
    "from torch_geometric.datasets import TUDataset\n",
    "\n",
    "root = 'enzymes'\n",
    "name = 'ENZYMES'\n",
    "\n",
    "# The ENZYMES dataset\n",
    "pyg_dataset = TUDataset(root, name)\n",
    "\n",
    "# You will find that there are 600 graphs in this dataset\n",
    "print(pyg_dataset)"
   ],
   "outputs": [
    {
     "name": "stdout",
     "output_type": "stream",
     "text": [
      "ENZYMES(600)\n"
     ]
    }
   ],
   "execution_count": 1
  },
  {
   "cell_type": "markdown",
   "id": "fcb72de7-4c91-46f7-bea1-4795d92c2164",
   "metadata": {},
   "source": [
    "## Question 1: What is the number of classes and number of features in the ENZYMES dataset?"
   ]
  },
  {
   "cell_type": "code",
   "id": "6699d9f9-cf0e-465c-82b1-2ec724c97a32",
   "metadata": {
    "ExecuteTime": {
     "end_time": "2024-06-16T19:07:15.321844Z",
     "start_time": "2024-06-16T19:07:15.311412Z"
    }
   },
   "source": [
    "# TODO: Implement a function that takes a PyG dataset object\n",
    "# and returns the number of classes for that dataset.\n",
    "def get_num_classes(pyg_dataset):\n",
    "    num_classes = pyg_dataset.num_classes\n",
    "\n",
    "    return num_classes\n",
    "\n",
    "\n",
    "# TODO: Implement a function that takes a PyG dataset object\n",
    "# and returns the number of features for that dataset.\n",
    "def get_num_features(pyg_dataset):\n",
    "    num_features = pyg_dataset.num_features\n",
    "\n",
    "    return num_features\n",
    "\n",
    "\n",
    "num_classes = get_num_classes(pyg_dataset)\n",
    "num_features = get_num_features(pyg_dataset)\n",
    "print(\"{} dataset has {} classes\".format(name, num_classes))\n",
    "print(\"{} dataset has {} features\".format(name, num_features))"
   ],
   "outputs": [
    {
     "name": "stdout",
     "output_type": "stream",
     "text": [
      "ENZYMES dataset has 6 classes\n",
      "ENZYMES dataset has 3 features\n"
     ]
    }
   ],
   "execution_count": 2
  },
  {
   "cell_type": "markdown",
   "id": "00e3edeb-dfea-464f-a58b-9596f06ff05d",
   "metadata": {},
   "source": [
    "### Answer 1:\n",
    "\n",
    "ENZYMES dataset has 6 classes\n",
    "\n",
    "ENZYMES dataset has 3 features"
   ]
  },
  {
   "cell_type": "markdown",
   "id": "e075ab6d-efb6-4301-b741-063a96ef3aaf",
   "metadata": {},
   "source": [
    "## PyG Data\n",
    "\n",
    "Each PyG dataset stores a list of `torch_geometric.data.Data` objects, where each `torch_geometric.data.Data` object represents a graph. We can easily get the `Data` object by indexing into the dataset.\n",
    "\n",
    "For more information such as what is stored in the `Data` object, please refer to the [documentation](https://pytorch-geometric.readthedocs.io/en/latest/modules/data.html#torch_geometric.data.Data)."
   ]
  },
  {
   "cell_type": "markdown",
   "id": "d9b92190-ada3-4fe1-a40d-bf99c797bfb0",
   "metadata": {},
   "source": [
    "\n",
    "## Question 2: What is the label of the graph with index 100 in the ENZYMES dataset?"
   ]
  },
  {
   "cell_type": "code",
   "id": "75b2b148-3202-48ea-872b-bbb69300fa3c",
   "metadata": {
    "ExecuteTime": {
     "end_time": "2024-06-16T19:37:51.996674Z",
     "start_time": "2024-06-16T19:37:46.098537Z"
    }
   },
   "source": [
    "# TODO: Implement a function that takes a PyG dataset object,\n",
    "# an index of a graph within the dataset, and returns the class/label\n",
    "# of the graph (as an integer).\n",
    "def get_graph_class(pyg_dataset, idx):\n",
    "    graph = pyg_dataset[idx]\n",
    "    label = int(graph.y)\n",
    "\n",
    "    return label\n",
    "\n",
    "\n",
    "# Here pyg_dataset is a dataset for graph classification\n",
    "graph_0 = pyg_dataset[0]\n",
    "idx = 100\n",
    "label = get_graph_class(pyg_dataset, idx)\n",
    "print('Graph with index {} has label {}'.format(idx, label))"
   ],
   "outputs": [
    {
     "name": "stdout",
     "output_type": "stream",
     "text": [
      "Graph with index 100 has label 4\n"
     ]
    }
   ],
   "execution_count": 7
  },
  {
   "cell_type": "markdown",
   "id": "3ac24735-67dd-4c3f-b83e-407264a140ca",
   "metadata": {},
   "source": [
    "### Answer 2:\n",
    "\n",
    "Graph with index 100 has label 4"
   ]
  },
  {
   "cell_type": "markdown",
   "id": "1d3fac81-4086-44c4-906b-ff11300cb986",
   "metadata": {},
   "source": [
    "## Question 3: How many edges does the graph with index 200 have?"
   ]
  },
  {
   "cell_type": "code",
   "id": "be5931d8-7474-4b9f-a491-4f1c0455f5df",
   "metadata": {
    "ExecuteTime": {
     "end_time": "2024-06-16T19:39:45.150731Z",
     "start_time": "2024-06-16T19:39:35.017682Z"
    }
   },
   "source": [
    "# TODO: Implement a function that takes a PyG dataset object,\n",
    "# the index of a graph in the dataset, and returns the number of\n",
    "# edges in the graph (as an integer). You should not count an edge\n",
    "# twice if the graph is undirected. For example, in an undirected\n",
    "# graph G, if two nodes v and u are connected by an edge, this edge\n",
    "# should only be counted once.\n",
    "def get_graph_num_edges(pyg_dataset, idx):\n",
    "    ############# Your code here ############\n",
    "    ## Note:\n",
    "    ## 1. You can't return the data.num_edges directly\n",
    "    ## 2. We assume the graph is undirected\n",
    "    ## 3. Look at the PyG dataset built in functions\n",
    "    from torch_geometric.data import Data\n",
    "    graph: Data = pyg_dataset[idx]\n",
    "    num_edges = graph.num_edges if graph.is_directed() else graph.num_edges / 2\n",
    "\n",
    "    #########################################\n",
    "\n",
    "    return int(num_edges)\n",
    "\n",
    "\n",
    "idx = 200\n",
    "num_edges = get_graph_num_edges(pyg_dataset, idx)\n",
    "print('Graph with index {} has {} edges'.format(idx, num_edges))"
   ],
   "outputs": [
    {
     "name": "stdout",
     "output_type": "stream",
     "text": [
      "Graph with index 200 has 53 edges\n"
     ]
    }
   ],
   "execution_count": 10
  },
  {
   "cell_type": "markdown",
   "id": "150697e1-963c-4488-bc12-6c2e13b3bbb6",
   "metadata": {},
   "source": [
    "### Answer 3:\n",
    "\n",
    "Graph with index 200 has 53 edges"
   ]
  },
  {
   "cell_type": "markdown",
   "id": "1a606e8e-c7c5-4a82-b693-b74b6536148d",
   "metadata": {},
   "source": [
    "# 2) Open Graph Benchmark (OGB)\n",
    "\n",
    "The Open Graph Benchmark (OGB) is a collection of realistic, large-scale, and diverse benchmark datasets for machine learning on graphs. Its datasets are automatically downloaded, processed, and split using the OGB Data Loader. The model performance can then be evaluated by using the OGB Evaluator in a unified manner."
   ]
  },
  {
   "cell_type": "markdown",
   "id": "5bdbd178-5043-441f-8cce-f6a2820f0b70",
   "metadata": {},
   "source": [
    "## Dataset and Data\n",
    "\n",
    "OGB also supports PyG dataset and data classes. Here we take a look on the `ogbn-arxiv` dataset."
   ]
  },
  {
   "cell_type": "code",
   "execution_count": null,
   "id": "5316caac-6394-47c5-8623-d753cbbd04af",
   "metadata": {},
   "outputs": [],
   "source": [
    "import torch_geometric.transforms as T\n",
    "from ogb.nodeproppred import PygNodePropPredDataset\n",
    "\n",
    "dataset_name = 'ogbn-arxiv'\n",
    "# Load the dataset and transform it to sparse tensor\n",
    "dataset = PygNodePropPredDataset(name=dataset_name, transform=T.ToSparseTensor())\n",
    "print('The {} dataset has {} graph'.format(dataset_name, len(dataset)))\n",
    "\n",
    "# Extract the graph\n",
    "data = dataset[0]"
   ]
  },
  {
   "cell_type": "markdown",
   "id": "bf1ed0e8-b65c-45a9-ba4e-05fe39f6d1b4",
   "metadata": {},
   "source": [
    "## Question 4: How many features are in the ogbn-arxiv graph?"
   ]
  },
  {
   "cell_type": "code",
   "execution_count": null,
   "id": "78480801-f874-4645-99a3-ab7c45028d8e",
   "metadata": {},
   "outputs": [],
   "source": [
    "# TODO: Implement a function that takes a PyG data object,\n",
    "# and returns the number of features in the graph (as an integer).\n",
    "def graph_num_features(data):\n",
    "    ############# Your code here ############\n",
    "    num_features = 0\n",
    "\n",
    "    #########################################\n",
    "\n",
    "    return int(num_features)\n",
    "\n",
    "\n",
    "num_features = graph_num_features(data)\n",
    "print('The graph has {} features'.format(num_features))"
   ]
  },
  {
   "cell_type": "markdown",
   "id": "addbe6f5-53bf-44d9-b640-caafb22e604a",
   "metadata": {},
   "source": [
    "### Answer 4:\n",
    "\n",
    "Your answer"
   ]
  },
  {
   "cell_type": "markdown",
   "id": "29b562c3-e4bc-416c-836e-a6dc7959bb9b",
   "metadata": {},
   "source": [
    "# 3) GNN: Node Property Prediction\n",
    "\n",
    "In this section we will build our first graph neural network using PyTorch Geometric. Then we will apply it to the task of node property prediction (node classification).\n",
    "\n",
    "Specifically, we will use GCN as the foundation for your graph neural network ([Kipf et al. (2017)](https://arxiv.org/pdf/1609.02907.pdf)). To do so, we will work with PyG's built-in `GCNConv` layer."
   ]
  },
  {
   "cell_type": "code",
   "execution_count": null,
   "id": "314c2860-37a8-4f00-9fd1-a30b1b56de56",
   "metadata": {},
   "outputs": [],
   "source": [
    "import torch\n",
    "import pandas as pd\n",
    "import torch.nn.functional as F\n",
    "\n",
    "print(torch.__version__)\n",
    "\n",
    "# The PyG built-in GCNConv\n",
    "\n",
    "import torch_geometric.transforms as T\n",
    "from ogb.nodeproppred import PygNodePropPredDataset, Evaluator"
   ]
  },
  {
   "cell_type": "markdown",
   "id": "090874a3-9673-4e6c-b1d9-76a4b19083d5",
   "metadata": {},
   "source": [
    "## Load and Preprocess the Dataset"
   ]
  },
  {
   "cell_type": "code",
   "execution_count": null,
   "id": "f7284f26-5530-4eee-8fc1-1d8cef997af3",
   "metadata": {},
   "outputs": [],
   "source": [
    "# Add a transform that creates the graph and directly transforms it to be undirected\n",
    "dataset_name = 'ogbn-arxiv'\n",
    "dataset = PygNodePropPredDataset(name=dataset_name, transform=T.Compose([T.ToUndirected(), T.ToSparseTensor()]))\n",
    "data = dataset[0]\n",
    "print(data)\n",
    "\n",
    "device = 'cuda' if torch.cuda.is_available() else 'cpu'\n",
    "\n",
    "# If you use GPU, the device should be cuda\n",
    "print('Device: {}'.format(device))\n",
    "\n",
    "data = data.to(device)\n",
    "split_idx = dataset.get_idx_split()\n",
    "train_idx = split_idx['train'].to(device)"
   ]
  },
  {
   "attachments": {
    "752b2d4e-b586-4f0c-af18-ed95814266f3.png": {
     "image/png": "[encoded data removed]"
    }
   },
   "cell_type": "markdown",
   "id": "be4a547c-e68a-4329-8d71-a469cda3a804",
   "metadata": {},
   "source": [
    "## GCN Model\n",
    "\n",
    "Now we will implement our GCN model!\n",
    "\n",
    "Please follow the figure below to implement the `forward` function.\n",
    "\n",
    "![gcnconv.png](attachment:752b2d4e-b586-4f0c-af18-ed95814266f3.png)"
   ]
  },
  {
   "cell_type": "code",
   "execution_count": null,
   "id": "0960d222-d014-4ddd-b472-a81b28b79152",
   "metadata": {},
   "outputs": [],
   "source": ""
  },
  {
   "cell_type": "code",
   "execution_count": null,
   "id": "1592c443-2bfd-4414-9e22-df9bb967dc8a",
   "metadata": {},
   "outputs": [],
   "source": [
    "class GCN(torch.nn.Module):\n",
    "    # TODO: Implement a function that initializes self.convs,\n",
    "    # self.bns, and self.softmax.\n",
    "    def __init__(self, input_dim, hidden_dim, output_dim, num_layers,\n",
    "                 dropout, return_embeds=False):\n",
    "\n",
    "        super(GCN, self).__init__()\n",
    "\n",
    "        ############# Your code here ############\n",
    "        ## Note:\n",
    "        ## 0. Add a sanity check concerning the number of layers\n",
    "        ## 1. You should use torch.nn.ModuleList for self.convs and self.bns\n",
    "        ## 2. self.convs has num_layers GCNConv layers\n",
    "        ## 3. self.bns has num_layers - 1 BatchNorm1d layers\n",
    "        ## 4. You should use torch.nn.LogSoftmax for self.softmax\n",
    "        ## 5. The parameters you can set for GCNConv include 'in_channels' and\n",
    "        ## 'out_channels'. For more information please refer to the documentation:\n",
    "        ## https://pytorch-geometric.readthedocs.io/en/latest/modules/nn.html#torch_geometric.nn.conv.GCNConv\n",
    "        ## 6. The only parameter you need to set for BatchNorm1d is 'num_features'\n",
    "        ## For more information please refer to the documentation:\n",
    "        ## https://pytorch.org/docs/stable/generated/torch.nn.BatchNorm1d.html\n",
    "\n",
    "        # A list of GCNConv layers\n",
    "        self.convs = None\n",
    "\n",
    "        # A list of 1D batch normalization layers\n",
    "        self.bns = None\n",
    "\n",
    "        # The log softmax layer\n",
    "        self.softmax = None\n",
    "\n",
    "        #########################################\n",
    "\n",
    "        # Probability of an element getting zeroed\n",
    "        self.dropout = dropout\n",
    "\n",
    "        # Skip classification layer and return node embeddings\n",
    "        self.return_embeds = return_embeds\n",
    "\n",
    "    def reset_parameters(self):\n",
    "        for conv in self.convs:\n",
    "            conv.reset_parameters()\n",
    "        for bn in self.bns:\n",
    "            bn.reset_parameters()\n",
    "\n",
    "    # TODO: Implement a function that takes the feature tensor x and\n",
    "    # edge_index tensor adj_t and returns the output tensor as\n",
    "    # shown in the figure.\n",
    "    def forward(self, x, edge_index):\n",
    "\n",
    "        ############# Your code here ############\n",
    "        ## Note:\n",
    "        ## 1. Construct the network as shown in the figure\n",
    "        ## 2. torch.nn.functional.relu and torch.nn.functional.dropout are useful\n",
    "        ## For more information please refer to the documentation:\n",
    "        ## https://pytorch.org/docs/stable/nn.functional.html\n",
    "        ## 3. Don't forget to set F.dropout training to self.training\n",
    "        ## 4. If return_embeds is True, then skip the last softmax layer\n",
    "\n",
    "        out = None\n",
    "        #########################################\n",
    "\n",
    "        return out"
   ]
  },
  {
   "cell_type": "code",
   "execution_count": null,
   "id": "8a6292c8-b790-48ae-b63d-87a216c8bf0c",
   "metadata": {},
   "outputs": [],
   "source": [
    "# TODO: Implement a function that trains the model by\n",
    "# using the given optimizer and loss_fn.\n",
    "def train(model, data, train_idx, optimizer, loss_fn):\n",
    "    model.train()\n",
    "    loss = 0\n",
    "\n",
    "    ############# Your code here ############\n",
    "    ## Note:\n",
    "    ## 1. Zero grad the optimizer\n",
    "    ## 2. Feed the data into the model\n",
    "    ## 3. Slice the model output and label by train_idx\n",
    "    ## 4. Feed the sliced output and label to loss_fn\n",
    "\n",
    "    #########################################\n",
    "\n",
    "    loss.backward()\n",
    "    optimizer.step()\n",
    "\n",
    "    return loss.item()"
   ]
  },
  {
   "cell_type": "code",
   "execution_count": null,
   "id": "fc775b72-726c-496c-b5f2-70fac0467b02",
   "metadata": {},
   "outputs": [],
   "source": [
    "# TODO: Implement a function that tests the model by\n",
    "# using the given split_idx and evaluator.\n",
    "@torch.no_grad()\n",
    "def test(model, data, split_idx, evaluator, save_model_results=False):\n",
    "    model.eval()\n",
    "\n",
    "    ############# Your code here ############\n",
    "    ## Note:\n",
    "    ## 1. No index slicing here\n",
    "    out = None\n",
    "\n",
    "    #########################################\n",
    "\n",
    "    y_pred = out.argmax(dim=-1, keepdim=True)\n",
    "\n",
    "    train_acc = evaluator.eval({\n",
    "        'y_true': data.y[split_idx['train']],\n",
    "        'y_pred': y_pred[split_idx['train']],\n",
    "    })['acc']\n",
    "    valid_acc = evaluator.eval({\n",
    "        'y_true': data.y[split_idx['valid']],\n",
    "        'y_pred': y_pred[split_idx['valid']],\n",
    "    })['acc']\n",
    "    test_acc = evaluator.eval({\n",
    "        'y_true': data.y[split_idx['test']],\n",
    "        'y_pred': y_pred[split_idx['test']],\n",
    "    })['acc']\n",
    "\n",
    "    if save_model_results:\n",
    "        print(\"Saving Model Predictions\")\n",
    "\n",
    "        data = {}\n",
    "        data['y_pred'] = y_pred.view(-1).cpu().detach().numpy()\n",
    "\n",
    "        df = pd.DataFrame(data=data)\n",
    "        # Save locally as csv\n",
    "        df.to_csv('ogbn-arxiv_node.csv', sep=',', index=False)\n",
    "\n",
    "    return train_acc, valid_acc, test_acc"
   ]
  },
  {
   "cell_type": "code",
   "execution_count": null,
   "id": "5e8878a1-0b12-459b-83fd-ad538bd0885b",
   "metadata": {},
   "outputs": [],
   "source": [
    "# Please do not change the args\n",
    "args = {\n",
    "    'device': device,\n",
    "    'num_layers': 3,\n",
    "    'hidden_dim': 256,\n",
    "    'dropout': 0.5,\n",
    "    'lr': 0.01,\n",
    "    'epochs': 100,\n",
    "}\n",
    "args"
   ]
  },
  {
   "cell_type": "code",
   "execution_count": null,
   "id": "743d4916-3421-4512-9cb8-ab5d090bfe93",
   "metadata": {},
   "outputs": [],
   "source": [
    "model = GCN(data.num_features, args['hidden_dim'],\n",
    "            dataset.num_classes, args['num_layers'],\n",
    "            args['dropout']).to(device)\n",
    "evaluator = Evaluator(name='ogbn-arxiv')\n"
   ]
  },
  {
   "cell_type": "code",
   "execution_count": null,
   "id": "37851c7b-57b0-4ed8-8baa-5193a066c39d",
   "metadata": {},
   "outputs": [],
   "source": [
    "# Please do not change these args\n",
    "# Training should take <10min using GPU runtime\n",
    "import copy\n",
    "\n",
    "# reset the parameters to initial random value\n",
    "model.reset_parameters()\n",
    "\n",
    "optimizer = torch.optim.Adam(model.parameters(), lr=args['lr'])\n",
    "loss_fn = F.nll_loss\n",
    "\n",
    "best_model = None\n",
    "best_valid_acc = 0\n",
    "\n",
    "for epoch in range(1, 1 + args[\"epochs\"]):\n",
    "    loss = train(model, data, train_idx, optimizer, loss_fn)\n",
    "    result = test(model, data, split_idx, evaluator)\n",
    "    train_acc, valid_acc, test_acc = result\n",
    "    if valid_acc > best_valid_acc:\n",
    "        best_valid_acc = valid_acc\n",
    "        best_model = copy.deepcopy(model)\n",
    "    print(f'Epoch: {epoch:02d}, '\n",
    "          f'Loss: {loss:.4f}, '\n",
    "          f'Train: {100 * train_acc:.2f}%, '\n",
    "          f'Valid: {100 * valid_acc:.2f}% '\n",
    "          f'Test: {100 * test_acc:.2f}%')"
   ]
  },
  {
   "cell_type": "markdown",
   "id": "fa4def01-b971-4b42-8098-c27ba5f70760",
   "metadata": {},
   "source": [
    "## Question 5: What are your `best_model` validation and test accuracies?\n",
    "\n",
    "Run the cell below to see the results of your best of model. Mark the results."
   ]
  },
  {
   "cell_type": "code",
   "execution_count": null,
   "id": "037078f8-b438-4571-b9b7-d16fc484a6ce",
   "metadata": {},
   "outputs": [],
   "source": [
    "best_result = test(best_model, data, split_idx, evaluator, save_model_results=False)\n",
    "train_acc, valid_acc, test_acc = best_result\n",
    "print(f'Best model: '\n",
    "      f'Train: {100 * train_acc:.2f}%, '\n",
    "      f'Valid: {100 * valid_acc:.2f}% '\n",
    "      f'Test: {100 * test_acc:.2f}%')"
   ]
  },
  {
   "cell_type": "markdown",
   "id": "36234101-6d38-4e85-9ee8-ee7be616848a",
   "metadata": {},
   "source": [
    "### Answer 5: \n",
    "\n",
    "Your answer"
   ]
  },
  {
   "cell_type": "markdown",
   "id": "67645ad4-aba0-4aba-a616-5d1e10cf20a4",
   "metadata": {},
   "source": [
    "## Question 6: What happens if you remove the ReLu and Dropout layer from the GNN model?"
   ]
  },
  {
   "cell_type": "markdown",
   "id": "f9f6c545-a914-4374-ad65-790c584d58da",
   "metadata": {},
   "source": [
    "### Answer 6: \n",
    "\n",
    "Your answer"
   ]
  },
  {
   "cell_type": "markdown",
   "id": "ed95b03a-ea74-49c2-aa31-d8b187e9fd2f",
   "metadata": {},
   "source": [
    "## Question 7: Exchange the GCN layer with GATv2 and GraphSage. What gives you the best result?"
   ]
  },
  {
   "cell_type": "markdown",
   "id": "b67befa6-6050-4bbf-bc74-9721dde3fb6d",
   "metadata": {},
   "source": [
    "### Answer 7: \n",
    "\n",
    "Your answer"
   ]
  },
  {
   "cell_type": "markdown",
   "id": "a2a1e484-6c53-4f51-9626-ed4d94ecf1d4",
   "metadata": {},
   "source": [
    "# 4) GNN: Graph Property Prediction\n",
    "\n",
    "In this section we will create a graph neural network for graph property prediction (graph classification).\n"
   ]
  },
  {
   "cell_type": "code",
   "execution_count": null,
   "id": "97a50812-8bed-46e6-b6a2-b136c0eee808",
   "metadata": {},
   "outputs": [],
   "source": [
    "from ogb.graphproppred import PygGraphPropPredDataset, Evaluator\n",
    "from torch_geometric.data import DataLoader\n",
    "from tqdm.notebook import tqdm\n",
    "\n",
    "# Load the dataset\n",
    "dataset = PygGraphPropPredDataset(name='ogbg-molhiv')\n",
    "\n",
    "device = 'cuda' if torch.cuda.is_available() else 'cpu'\n",
    "print('Device: {}'.format(device))\n",
    "\n",
    "split_idx = dataset.get_idx_split()\n",
    "\n",
    "# Check task type\n",
    "print('Task type: {}'.format(dataset.task_type))"
   ]
  },
  {
   "cell_type": "code",
   "execution_count": null,
   "id": "a99ec7bf-a2a3-420e-89ba-56030f4f9bc3",
   "metadata": {},
   "outputs": [],
   "source": [
    "# Load the dataset splits into corresponding dataloaders\n",
    "# We will train the graph classification task on a batch of 32 graphs\n",
    "# Shuffle the order of graphs for training set\n",
    "train_loader = DataLoader(dataset[split_idx[\"train\"]], batch_size=32, shuffle=True, num_workers=0)\n",
    "valid_loader = DataLoader(dataset[split_idx[\"valid\"]], batch_size=32, shuffle=False, num_workers=0)\n",
    "test_loader = DataLoader(dataset[split_idx[\"test\"]], batch_size=32, shuffle=False, num_workers=0)"
   ]
  },
  {
   "cell_type": "code",
   "execution_count": null,
   "id": "618d4754-97ca-4ae4-b7b6-44f72d80a33b",
   "metadata": {},
   "outputs": [],
   "source": [
    "# Please do not change the args\n",
    "args = {\n",
    "    'device': device,\n",
    "    'num_layers': 5,\n",
    "    'hidden_dim': 256,\n",
    "    'dropout': 0.5,\n",
    "    'lr': 0.001,\n",
    "    'epochs': 30,\n",
    "}\n",
    "args"
   ]
  },
  {
   "cell_type": "markdown",
   "id": "b87a5351-8bd3-40ff-beac-0a8fb2550fc5",
   "metadata": {},
   "source": [
    "## Graph Prediction Model"
   ]
  },
  {
   "cell_type": "markdown",
   "id": "f1812e91-5491-4965-b00f-af587501f323",
   "metadata": {},
   "source": [
    "### Graph Mini-Batching\n",
    "Before diving into the actual model, we introduce the concept of mini-batching with graphs. In order to parallelize the processing of a mini-batch of graphs, PyG combines the graphs into a single disconnected graph data object (*torch_geometric.data.Batch*). *torch_geometric.data.Batch* inherits from *torch_geometric.data.Data* (introduced earlier) and contains an additional attribute called `batch`.\n",
    "\n",
    "The `batch` attribute is a vector mapping each node to the index of its corresponding graph within the mini-batch:\n",
    "\n",
    "    batch = [0, ..., 0, 1, ..., n - 2, n - 1, ..., n - 1]\n",
    "\n",
    "This attribute is crucial for associating which graph each node belongs to and can be used to e.g. average the node embeddings for each graph individually to compute graph level embeddings.\n",
    "\n"
   ]
  },
  {
   "cell_type": "markdown",
   "id": "7001f37b-2b0d-4c3d-9741-485f460d08db",
   "metadata": {},
   "source": [
    "### Implemention\n",
    "Now, we have all of the tools to implement a GCN Graph Prediction model!  \n",
    "\n",
    "We will reuse the existing GCN model to generate `node_embeddings` and then use  `Global Pooling` over the nodes to create graph level embeddings that can be used to predict properties for the each graph. Remember that the `batch` attribute will be essential for performining Global Pooling over our mini-batch of graphs."
   ]
  },
  {
   "cell_type": "code",
   "execution_count": null,
   "id": "7e7ccdf0-3b99-4d9f-95c0-8b4ddbbbb67a",
   "metadata": {},
   "outputs": [],
   "source": [
    "from ogb.graphproppred.mol_encoder import AtomEncoder\n",
    "\n",
    "\n",
    "### GCN to predict graph property\n",
    "class GCN_Graph(torch.nn.Module):\n",
    "    def __init__(self, hidden_dim, output_dim, num_layers, dropout):\n",
    "        super(GCN_Graph, self).__init__()\n",
    "\n",
    "        # Load encoders for Atoms in molecule graphs\n",
    "        self.node_encoder = AtomEncoder(hidden_dim)\n",
    "\n",
    "        # Node embedding model\n",
    "        # Note that the input_dim and output_dim are set to hidden_dim\n",
    "        self.gnn_node = GCN(hidden_dim, hidden_dim,\n",
    "                            hidden_dim, num_layers, dropout, return_embeds=True)\n",
    "\n",
    "        self.pool = None\n",
    "\n",
    "        ############# Your code here ############\n",
    "        ## Note:\n",
    "        ## 1. Initialize self.pool as a global mean pooling layer\n",
    "        ## For more information please refer to the documentation:\n",
    "        ## https://pytorch-geometric.readthedocs.io/en/latest/modules/nn.html#global-pooling-layers\n",
    "        self.pool = None\n",
    "\n",
    "        #########################################\n",
    "\n",
    "        # Output layer\n",
    "        self.linear = torch.nn.Linear(hidden_dim, output_dim)\n",
    "\n",
    "    def reset_parameters(self):\n",
    "        self.gnn_node.reset_parameters()\n",
    "        self.linear.reset_parameters()\n",
    "\n",
    "    # TODO: Implement a function that takes as input a\n",
    "    # mini-batch of graphs (torch_geometric.data.Batch) and\n",
    "    # returns the predicted graph property for each graph.\n",
    "    #\n",
    "    # NOTE: Since we are predicting graph level properties,\n",
    "    # your output will be a tensor with dimension equaling\n",
    "    # the number of graphs in the mini-batch\n",
    "    def forward(self, batched_data):\n",
    "        # Extract important attributes of our mini-batch\n",
    "        x, edge_index, batch = batched_data.x, batched_data.edge_index, batched_data.batch\n",
    "        embed = self.node_encoder(x)\n",
    "\n",
    "        ############# Your code here ############\n",
    "        ## Note:\n",
    "        ## 1. Construct node embeddings using existing GCN model\n",
    "        ## 2. Use the global pooling layer to aggregate features for each individual graph\n",
    "        ## For more information please refer to the documentation:\n",
    "        ## https://pytorch-geometric.readthedocs.io/en/latest/modules/nn.html#global-pooling-layers\n",
    "        ## 3. Use a linear layer to predict each graph's property\n",
    "        out = None\n",
    "\n",
    "        #########################################\n",
    "\n",
    "        return out"
   ]
  },
  {
   "cell_type": "code",
   "execution_count": null,
   "id": "95e84fd1-7a9e-4f09-a48b-31daaf9cf4e9",
   "metadata": {},
   "outputs": [],
   "source": [
    "# TODO: Implement a function that trains your model by\n",
    "# using the given optimizer and loss_fn.\n",
    "def train(model, device, data_loader, optimizer, loss_fn):\n",
    "    model.train()\n",
    "    loss = 0\n",
    "\n",
    "    for step, batch in enumerate(tqdm(data_loader, desc=\"Iteration\")):\n",
    "        batch = batch.to(device)\n",
    "        if batch.x.shape[0] == 1 or batch.batch[-1] == 0:\n",
    "            pass\n",
    "        else:\n",
    "            ## ignore nan targets (unlabeled) when computing training loss.\n",
    "            is_labeled = batch.y == batch.y\n",
    "\n",
    "            ############# Your code here ############\n",
    "            ## Note:\n",
    "            ## 1. Zero grad the optimizer\n",
    "            ## 2. Feed the data into the model\n",
    "            ## 3. Use `is_labeled` mask to filter output and labels\n",
    "            ## 4. You may need to change the type of label to torch.float32\n",
    "            ## 5. Feed the output and label to the loss_fn\n",
    "\n",
    "            #########################################\n",
    "\n",
    "            loss.backward()\n",
    "            optimizer.step()\n",
    "\n",
    "    return loss.item()"
   ]
  },
  {
   "cell_type": "code",
   "execution_count": null,
   "id": "882c0048-facb-466c-86e6-c40d7c2f90d9",
   "metadata": {},
   "outputs": [],
   "source": [
    "# The evaluation function\n",
    "def eval(model, device, loader, evaluator, save_model_results=False, save_file=None):\n",
    "    model.eval()\n",
    "    y_true = []\n",
    "    y_pred = []\n",
    "\n",
    "    for step, batch in enumerate(tqdm(loader, desc=\"Iteration\")):\n",
    "        batch = batch.to(device)\n",
    "\n",
    "        if batch.x.shape[0] == 1:\n",
    "            pass\n",
    "        else:\n",
    "            with torch.no_grad():\n",
    "                pred = model(batch)\n",
    "\n",
    "            y_true.append(batch.y.view(pred.shape).detach().cpu())\n",
    "            y_pred.append(pred.detach().cpu())\n",
    "\n",
    "    y_true = torch.cat(y_true, dim=0).numpy()\n",
    "    y_pred = torch.cat(y_pred, dim=0).numpy()\n",
    "\n",
    "    input_dict = {\"y_true\": y_true, \"y_pred\": y_pred}\n",
    "\n",
    "    if save_model_results:\n",
    "        print(\"Saving Model Predictions\")\n",
    "\n",
    "        # Create a pandas dataframe with a two columns\n",
    "        # y_pred | y_true\n",
    "        data = {}\n",
    "        data['y_pred'] = y_pred.reshape(-1)\n",
    "        data['y_true'] = y_true.reshape(-1)\n",
    "\n",
    "        df = pd.DataFrame(data=data)\n",
    "        # Save to csv\n",
    "        df.to_csv('ogbg-molhiv_graph_' + save_file + '.csv', sep=',', index=False)\n",
    "\n",
    "    return evaluator.eval(input_dict)"
   ]
  },
  {
   "cell_type": "code",
   "execution_count": null,
   "id": "7d3bd662-8aa8-45d2-b129-060f8a4762fc",
   "metadata": {},
   "outputs": [],
   "source": [
    "model = GCN_Graph(args['hidden_dim'],\n",
    "                  dataset.num_tasks, args['num_layers'],\n",
    "                  args['dropout']).to(device)\n",
    "evaluator = Evaluator(name='ogbg-molhiv')"
   ]
  },
  {
   "cell_type": "code",
   "execution_count": null,
   "id": "78a276c5-f32e-4490-a9d2-a1118f0d9973",
   "metadata": {},
   "outputs": [],
   "source": [
    "# Please do not change these args\n",
    "# Training should take <10min using GPU runtime\n",
    "import copy\n",
    "\n",
    "model.reset_parameters()\n",
    "\n",
    "optimizer = torch.optim.Adam(model.parameters(), lr=args['lr'])\n",
    "loss_fn = torch.nn.BCEWithLogitsLoss()\n",
    "\n",
    "best_model = None\n",
    "best_valid_acc = 0\n",
    "\n",
    "for epoch in range(1, 1 + args[\"epochs\"]):\n",
    "    print('Training...')\n",
    "    loss = train(model, device, train_loader, optimizer, loss_fn)\n",
    "\n",
    "    print('Evaluating...')\n",
    "    train_result = eval(model, device, train_loader, evaluator)\n",
    "    val_result = eval(model, device, valid_loader, evaluator)\n",
    "    test_result = eval(model, device, test_loader, evaluator)\n",
    "\n",
    "    train_acc, valid_acc, test_acc = train_result[dataset.eval_metric], val_result[dataset.eval_metric], test_result[\n",
    "        dataset.eval_metric]\n",
    "    if valid_acc > best_valid_acc:\n",
    "        best_valid_acc = valid_acc\n",
    "        best_model = copy.deepcopy(model)\n",
    "    print(f'Epoch: {epoch:02d}, '\n",
    "          f'Loss: {loss:.4f}, '\n",
    "          f'Train: {100 * train_acc:.2f}%, '\n",
    "          f'Valid: {100 * valid_acc:.2f}% '\n",
    "          f'Test: {100 * test_acc:.2f}%')"
   ]
  },
  {
   "cell_type": "markdown",
   "id": "2752b899-6137-4dce-bd49-061e419ab6e4",
   "metadata": {},
   "source": [
    "## Question 8: What are your `best_model` validation and test ROC-AUC scores?\n",
    "\n",
    "Run the cell below to see the results of your best of model and save your model's predictions over the validation and test datasets."
   ]
  },
  {
   "cell_type": "code",
   "execution_count": null,
   "id": "d7dd3494-b2f6-4810-9736-394ec103199f",
   "metadata": {},
   "outputs": [],
   "source": [
    "train_acc = eval(best_model, device, train_loader, evaluator)[dataset.eval_metric]\n",
    "valid_acc = eval(best_model, device, valid_loader, evaluator, save_model_results=False, save_file=\"valid\")[\n",
    "    dataset.eval_metric]\n",
    "test_acc = eval(best_model, device, test_loader, evaluator, save_model_results=False, save_file=\"test\")[\n",
    "    dataset.eval_metric]\n",
    "\n",
    "print(f'Best model: '\n",
    "      f'Train: {100 * train_acc:.2f}%, '\n",
    "      f'Valid: {100 * valid_acc:.2f}% '\n",
    "      f'Test: {100 * test_acc:.2f}%')"
   ]
  },
  {
   "cell_type": "markdown",
   "id": "d98e0e93-2d66-478c-ac2a-3661a31c4c73",
   "metadata": {},
   "source": [
    "### Answer 8:\n",
    "\n",
    "Your answer"
   ]
  },
  {
   "cell_type": "markdown",
   "id": "4316b944-5d4a-4b83-a579-dc2e6f0e9df6",
   "metadata": {},
   "source": [
    "## Question 9: What is the role of `torch.nn.Linear` in the model?"
   ]
  },
  {
   "cell_type": "markdown",
   "id": "e6d34ef6-f2b3-4271-b893-a6c460c67f11",
   "metadata": {},
   "source": [
    "### Answer 9:\n",
    "\n",
    "Your answer"
   ]
  }
 ],
 "metadata": {
  "kernelspec": {
   "display_name": "Python 3 (ipykernel)",
   "language": "python",
   "name": "python3"
  },
  "language_info": {
   "codemirror_mode": {
    "name": "ipython",
    "version": 3
   },
   "file_extension": ".py",
   "mimetype": "text/x-python",
   "name": "python",
   "nbconvert_exporter": "python",
   "pygments_lexer": "ipython3",
   "version": "3.12.3"
  }
 },
 "nbformat": 4,
 "nbformat_minor": 5
}
