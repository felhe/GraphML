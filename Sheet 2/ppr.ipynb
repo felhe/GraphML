{
 "cells": [
  {
   "cell_type": "code",
   "id": "initial_id",
   "metadata": {
    "collapsed": true,
    "ExecuteTime": {
     "end_time": "2024-05-20T22:37:15.419439Z",
     "start_time": "2024-05-20T22:37:15.385447Z"
    }
   },
   "source": [
    "import math\n",
    "import random\n",
    "\n",
    "import networkit as nk\n",
    "import torch.distributions\n",
    "from networkit import Graph\n",
    "from torch_cluster import random_walk\n",
    "from torch_geometric import EdgeIndex\n",
    "from torch_geometric.utils import from_networkit\n",
    "\n",
    "\n",
    "class PPR:\n",
    "    def __init__(self, G: Graph, alpha, delta):\n",
    "        n = G.numberOfNodes()\n",
    "        is_undir = not G.isDirected()\n",
    "        G_pyg = from_networkit(G)[0]\n",
    "        G_pyg = EdgeIndex(G_pyg, sparse_size=(n, n), is_undirected=is_undir)\n",
    "        self._G = G_pyg\n",
    "        self._G_nk = G_nk\n",
    "        self._alpha = alpha\n",
    "        self._delta = delta\n",
    "        self.eps = math.sqrt(delta)\n",
    "        self.c = 350\n",
    "        self.beta = 1 / 6\n",
    "\n",
    "    def fast_ppr(self, s, t):\n",
    "        t_set, f_set, pi_inv = self._frontier(t)\n",
    "        if s in t_set:\n",
    "            return pi_inv[s]\n",
    "        else:\n",
    "            k = round(self.c * self.eps / self._delta)\n",
    "            H = [None] * k\n",
    "            for i in range(k):\n",
    "                L = int(torch.distributions.Geometric(torch.tensor([self._alpha])).sample().int()) + 1\n",
    "                RW = random_walk(self._G[0], self._G[1], torch.tensor([s]), L)[0]\n",
    "                for node in RW:\n",
    "                    node = int(node)\n",
    "                    if node in f_set:\n",
    "                        H[i] = node\n",
    "            return (1 / k) * sum([pi_inv[H[i]] if H[i] is not None else 0 for i in range(k)]), t_set, f_set\n",
    "\n",
    "    def _frontier(self, t):\n",
    "        eps_inverse = self.beta * self.eps\n",
    "        pi = [0 if u != t else self._alpha for u in self._G_nk.iterNodes()]\n",
    "        r = [0 if u != t else self._alpha for u in self._G_nk.iterNodes()]\n",
    "        target_set = {t}\n",
    "        frontier_set = set()\n",
    "        while any(r[w] > self._alpha * eps_inverse for w in self._G_nk.iterNodes()):\n",
    "            for w in self._G_nk.iterNodes():\n",
    "                if r[w] > self._alpha * eps_inverse:\n",
    "                    for u in self._G_nk.iterInNeighbors(w):\n",
    "                        Delta = (1 - self._alpha) * (r[w] / self._G_nk.degreeOut(u))\n",
    "                        pi[u] = pi[u] + Delta\n",
    "                        r[u] = r[u] + Delta\n",
    "                        if pi[u] > self.eps:\n",
    "                            target_set.add(u)\n",
    "                            for n in self._G_nk.iterInNeighbors(u):\n",
    "                                frontier_set.add(n)\n",
    "                r[w] = 0\n",
    "        frontier_set = frontier_set.difference(target_set)\n",
    "        return target_set, frontier_set, pi"
   ],
   "outputs": [],
   "execution_count": 10
  },
  {
   "metadata": {
    "ExecuteTime": {
     "end_time": "2024-05-20T22:42:58.487583Z",
     "start_time": "2024-05-20T22:42:19.414837Z"
    }
   },
   "cell_type": "code",
   "source": [
    "G_nk = nk.readGraph(\"./foodweb-baydry.konect\")\n",
    "delta = 1 / G_nk.numberOfNodes()\n",
    "my_ppr = PPR(G_nk, alpha=0.3, delta=delta)\n",
    "t_sizes = []\n",
    "f_sizes = []\n",
    "below_delta = 0\n",
    "for i in range(1, 20):\n",
    "    start = random.randint(0, G_nk.numberOfNodes() - 1)\n",
    "    target = random.randint(0, G_nk.numberOfNodes() - 1)\n",
    "    result, target_set, frontier_set = my_ppr.fast_ppr(start, target)\n",
    "    t_sizes.append(len(target_set))\n",
    "    f_sizes.append(len(frontier_set))\n",
    "    if result < delta:\n",
    "        below_delta += 1\n",
    "print(\"Average size of target set: \", sum(t_sizes) / len(t_sizes))\n",
    "print(\"Average size of frontier set: \", sum(f_sizes) / len(f_sizes))\n",
    "print(\"Percentage of values below delta: \", below_delta / 20)\n"
   ],
   "id": "d80e4fa1e5abf0fc",
   "outputs": [
    {
     "name": "stdout",
     "output_type": "stream",
     "text": [
      "Average size of target set:  2.1578947368421053\n",
      "Average size of frontier set:  7.7368421052631575\n",
      "Percentage of values below delta:  0.9\n"
     ]
    }
   ],
   "execution_count": 12
  },
  {
   "metadata": {},
   "cell_type": "markdown",
   "source": "The parameter alpha sets the probability of restarting the random walk at the origin node. A smaller value for alpha therefore leads to longer random walks (on average). ",
   "id": "1334f7d42549b617"
  }
 ],
 "metadata": {
  "kernelspec": {
   "display_name": "Python 3",
   "language": "python",
   "name": "python3"
  },
  "language_info": {
   "codemirror_mode": {
    "name": "ipython",
    "version": 2
   },
   "file_extension": ".py",
   "mimetype": "text/x-python",
   "name": "python",
   "nbconvert_exporter": "python",
   "pygments_lexer": "ipython2",
   "version": "2.7.6"
  }
 },
 "nbformat": 4,
 "nbformat_minor": 5
}
